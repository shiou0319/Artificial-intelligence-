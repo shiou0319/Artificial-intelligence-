{
  "nbformat": 4,
  "nbformat_minor": 0,
  "metadata": {
    "colab": {
      "name": "backward-chaining.ipynb",
      "provenance": []
    },
    "kernelspec": {
      "name": "python3",
      "display_name": "Python 3"
    },
    "language_info": {
      "name": "python"
    }
  },
  "cells": [
    {
      "cell_type": "code",
      "metadata": {
        "colab": {
          "base_uri": "https://localhost:8080/"
        },
        "id": "8znTNZH36xUV",
        "outputId": "fb195d5e-63fa-4de5-d9d8-b3c99e92a0c9"
      },
      "source": [
        "!git clone https://github.com/Lgneous/ExpertSystem.git"
      ],
      "execution_count": 1,
      "outputs": [
        {
          "output_type": "stream",
          "name": "stdout",
          "text": [
            "Cloning into 'ExpertSystem'...\n",
            "remote: Enumerating objects: 23, done.\u001b[K\n",
            "remote: Total 23 (delta 0), reused 0 (delta 0), pack-reused 23\u001b[K\n",
            "Unpacking objects: 100% (23/23), done.\n"
          ]
        }
      ]
    },
    {
      "cell_type": "code",
      "metadata": {
        "colab": {
          "base_uri": "https://localhost:8080/"
        },
        "id": "bzEwZ6OiDH1G",
        "outputId": "6b60ae48-6d7f-4b54-8e4e-d41480d19fa2"
      },
      "source": [
        "!ls\n",
        "!pwd"
      ],
      "execution_count": 2,
      "outputs": [
        {
          "output_type": "stream",
          "name": "stdout",
          "text": [
            "ExpertSystem  sample_data\n",
            "/content\n"
          ]
        }
      ]
    },
    {
      "cell_type": "code",
      "metadata": {
        "colab": {
          "base_uri": "https://localhost:8080/",
          "height": 70
        },
        "id": "3rQi11CHDzIm",
        "outputId": "80f54824-8d93-4be3-fd9a-ab9198d7fcbe"
      },
      "source": [
        "%cd /content/ExpertSystem\n",
        "!pwd\n",
        "%pwd\n"
      ],
      "execution_count": 3,
      "outputs": [
        {
          "output_type": "stream",
          "name": "stdout",
          "text": [
            "/content/ExpertSystem\n",
            "/content/ExpertSystem\n"
          ]
        },
        {
          "output_type": "execute_result",
          "data": {
            "text/plain": [
              "'/content/ExpertSystem'"
            ],
            "application/vnd.google.colaboratory.intrinsic+json": {
              "type": "string"
            }
          },
          "metadata": {},
          "execution_count": 3
        }
      ]
    },
    {
      "cell_type": "code",
      "metadata": {
        "colab": {
          "base_uri": "https://localhost:8080/"
        },
        "id": "VZ-DShnyD0zU",
        "outputId": "59ca7a52-7407-4355-f9ee-0eb031807b25"
      },
      "source": [
        "%ls\n",
        "!ls"
      ],
      "execution_count": 4,
      "outputs": [
        {
          "output_type": "stream",
          "name": "stdout",
          "text": [
            "engine.py       lexer.py  main.py   README.org\n",
            "interpreter.py  LICENSE   parse.py  shell.py\n",
            "engine.py\tlexer.py  main.py   README.org\n",
            "interpreter.py\tLICENSE   parse.py  shell.py\n"
          ]
        }
      ]
    },
    {
      "cell_type": "code",
      "metadata": {
        "colab": {
          "base_uri": "https://localhost:8080/"
        },
        "id": "dvbLSVx3D3af",
        "outputId": "305fbb3f-34b6-45d3-a291-68dd9da54c47"
      },
      "source": [
        "!python main.py"
      ],
      "execution_count": 5,
      "outputs": [
        {
          "output_type": "stream",
          "name": "stdout",
          "text": [
            "Type \"quit\" to exit the program.\n",
            "#=> Q\n",
            "Expected => or <=>.\n",
            "#=> quit\n",
            "Goodbye !\n"
          ]
        }
      ]
    },
    {
      "cell_type": "markdown",
      "metadata": {
        "id": "03J9fpu0FReW"
      },
      "source": [
        "#example:\n",
        "\n",
        "#=> P=>Q\n",
        "#=> E=>B\n",
        "#=> R=>Q\n",
        "#=> M+N=>Q\n",
        "#=> A+B=>P\n",
        "#=> A=>M\n",
        "#=> C=>M\n",
        "#=> D=>N\n",
        "#=> =DA\n",
        "#=> ?Q\n",
        "# Rule Q, True"
      ]
    }
  ]
}