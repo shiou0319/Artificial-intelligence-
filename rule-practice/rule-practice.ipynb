{
  "nbformat": 4,
  "nbformat_minor": 0,
  "metadata": {
    "colab": {
      "name": "H34086050_3.ipynb",
      "provenance": []
    },
    "kernelspec": {
      "name": "python3",
      "display_name": "Python 3"
    },
    "language_info": {
      "name": "python"
    }
  },
  "cells": [
    {
      "cell_type": "code",
      "metadata": {
        "colab": {
          "base_uri": "https://localhost:8080/"
        },
        "id": "QTyRLmwrYF42",
        "outputId": "3433c911-c35f-4a7f-ee50-cb04d2aa2371"
      },
      "source": [
        "element = { \n",
        "        'Full time' : True,\n",
        "        'Over3yrs' : False,\n",
        "        'Over5yrs' : False,\n",
        "        'Previous loan' : True,\n",
        "        'Repaid on Time' : False,\n",
        "        'grant loan' : False,\n",
        "        'no loan' : False,\n",
        "        }\n",
        "\n",
        "\n",
        "new_fact = True\n",
        "\n",
        "rules_fired = ['facts']\n",
        "\n",
        "while new_fact == True: \n",
        "    \n",
        "    # new cycle\n",
        "    new_fact = False  \n",
        "    \n",
        "    # Rule 1  \n",
        "    if element['Full time'] is True and element['Over3yrs'] is True:\n",
        "        element['grant loan'] = True\n",
        "        new_fact = True\n",
        "        rules_fired.append('R1')\n",
        "\n",
        "    # Rule 2  \n",
        "    if element['Full time'] is True and element['Over3yrs'] is False and element['Previous loan'] is True and element['Repaid on Time'] is True :\n",
        "        element['grant loan'] = True\n",
        "        new_fact = True\n",
        "        rules_fired.append('R2')\n",
        "\n",
        "    # Rule 3  \n",
        "    if element['Full time'] is True and element['Over3yrs'] is False and element['Previous loan'] is True and element['Repaid on Time'] is False :\n",
        "        element['no loan'] = True\n",
        "        new_fact = True\n",
        "        rules_fired.append('R3')\n",
        "\n",
        "    # Rule 4 \n",
        "    if element['Full time'] is True and element['Over3yrs'] is False and element['Previous loan'] is False :\n",
        "        element['no loan'] = True\n",
        "        new_fact = True\n",
        "        rules_fired.append('R4')\n",
        "    \n",
        "    # Rule 5 \n",
        "    if element['Full time'] is False and element['Over5yrs'] is True and element['Previous loan'] is True and element['Repaid on Time'] is True :\n",
        "        element['grant loan'] = True\n",
        "        new_fact = True\n",
        "        rules_fired.append('R5')\n",
        "\n",
        "    # Rule 6 \n",
        "    if element['Full time'] is False and element['Over5yrs'] is True and element['Previous loan'] is False :\n",
        "        element['no loan'] = True\n",
        "        new_fact = True\n",
        "        rules_fired.append('R6')\n",
        "\n",
        "    # Rule 7 \n",
        "    if element['Full time'] is False and element['Over5yrs'] is False :\n",
        "        element['no loan'] = True\n",
        "        new_fact = True\n",
        "        rules_fired.append('R7')\n",
        "\n",
        "    # output classification result\n",
        "    \n",
        "\n",
        "    if element['no loan'] is True:\n",
        "        print('No loan!\\n')    \n",
        "        print('Rules fired: ')\n",
        "        print(rules_fired)\n",
        "        new_fact = False\n",
        "\n",
        "    if element['grant loan'] is True:\n",
        "        print('Grant loan!\\n')    \n",
        "        print('Rules fired: ')\n",
        "        print(rules_fired)\n",
        "        new_fact = False"
      ],
      "execution_count": 9,
      "outputs": [
        {
          "output_type": "stream",
          "name": "stdout",
          "text": [
            "No loan!\n",
            "\n",
            "Rules fired: \n",
            "['facts', 'R3']\n"
          ]
        }
      ]
    }
  ]
}